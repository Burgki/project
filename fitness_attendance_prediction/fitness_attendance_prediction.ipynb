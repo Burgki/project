{
 "cells": [
  {
   "cell_type": "markdown",
   "id": "ce7849da",
   "metadata": {},
   "source": [
    "# Fitness Class Attention"
   ]
  },
  {
   "attachments": {},
   "cell_type": "markdown",
   "id": "0db4dc66",
   "metadata": {},
   "source": [
    "**Problem** : Many membors reserved a class but didn't attend.\n",
    "\n",
    "**Requirement** : Predict new incoming booking whether membor will attend or not.\n",
    "\n",
    "**Business outcome** : Fitness can serve their class to more customers. More membors in a class, more impressive, better experience.\n",
    "\n",
    "This notebook will show :\n",
    "1. Some insights that probably be helpful.\n",
    "2. Maching learning model to predict whether membor will join the class or not."
   ]
  },
  {
   "attachments": {},
   "cell_type": "markdown",
   "id": "6cb8e3f7",
   "metadata": {},
   "source": [
    "### Intro"
   ]
  },
  {
   "cell_type": "code",
   "execution_count": 360,
   "id": "4d16e245",
   "metadata": {},
   "outputs": [],
   "source": [
    "#import module\n",
    "import pandas as pd \n",
    "import matplotlib.pyplot as plt\n",
    "import seaborn as sns\n",
    "import numpy as np\n",
    "\n",
    "from sklearn.model_selection import train_test_split\n",
    "from sklearn.linear_model import LogisticRegression\n",
    "from sklearn.metrics import accuracy_score, confusion_matrix, classification_report\n",
    "from sklearn.tree import DecisionTreeClassifier\n",
    "from sklearn.ensemble import RandomForestClassifier"
   ]
  },
  {
   "cell_type": "markdown",
   "id": "35f73a81",
   "metadata": {},
   "source": [
    "**Import raw data (local file)**"
   ]
  },
  {
   "cell_type": "code",
   "execution_count": 361,
   "id": "de4a96ee",
   "metadata": {},
   "outputs": [],
   "source": [
    "file_path = 'C:\\\\Users\\\\User\\\\Documents\\\\GitHub\\\\project\\\\fitness_attention_prediction\\\\fitness_class_2212.csv'\n",
    "data = pd.read_csv(file_path)"
   ]
  },
  {
   "cell_type": "code",
   "execution_count": 362,
   "id": "1728a76b",
   "metadata": {},
   "outputs": [
    {
     "data": {
      "text/html": [
       "<div>\n",
       "<style scoped>\n",
       "    .dataframe tbody tr th:only-of-type {\n",
       "        vertical-align: middle;\n",
       "    }\n",
       "\n",
       "    .dataframe tbody tr th {\n",
       "        vertical-align: top;\n",
       "    }\n",
       "\n",
       "    .dataframe thead th {\n",
       "        text-align: right;\n",
       "    }\n",
       "</style>\n",
       "<table border=\"1\" class=\"dataframe\">\n",
       "  <thead>\n",
       "    <tr style=\"text-align: right;\">\n",
       "      <th></th>\n",
       "      <th>booking_id</th>\n",
       "      <th>months_as_member</th>\n",
       "      <th>weight</th>\n",
       "      <th>days_before</th>\n",
       "      <th>day_of_week</th>\n",
       "      <th>time</th>\n",
       "      <th>category</th>\n",
       "      <th>attended</th>\n",
       "    </tr>\n",
       "  </thead>\n",
       "  <tbody>\n",
       "    <tr>\n",
       "      <th>0</th>\n",
       "      <td>1</td>\n",
       "      <td>17</td>\n",
       "      <td>79.56</td>\n",
       "      <td>8</td>\n",
       "      <td>Wed</td>\n",
       "      <td>PM</td>\n",
       "      <td>Strength</td>\n",
       "      <td>0</td>\n",
       "    </tr>\n",
       "    <tr>\n",
       "      <th>1</th>\n",
       "      <td>2</td>\n",
       "      <td>10</td>\n",
       "      <td>79.01</td>\n",
       "      <td>2</td>\n",
       "      <td>Mon</td>\n",
       "      <td>AM</td>\n",
       "      <td>HIIT</td>\n",
       "      <td>0</td>\n",
       "    </tr>\n",
       "    <tr>\n",
       "      <th>2</th>\n",
       "      <td>3</td>\n",
       "      <td>16</td>\n",
       "      <td>74.53</td>\n",
       "      <td>14</td>\n",
       "      <td>Sun</td>\n",
       "      <td>AM</td>\n",
       "      <td>Strength</td>\n",
       "      <td>0</td>\n",
       "    </tr>\n",
       "    <tr>\n",
       "      <th>3</th>\n",
       "      <td>4</td>\n",
       "      <td>5</td>\n",
       "      <td>86.12</td>\n",
       "      <td>10</td>\n",
       "      <td>Fri</td>\n",
       "      <td>AM</td>\n",
       "      <td>Cycling</td>\n",
       "      <td>0</td>\n",
       "    </tr>\n",
       "    <tr>\n",
       "      <th>4</th>\n",
       "      <td>5</td>\n",
       "      <td>15</td>\n",
       "      <td>69.29</td>\n",
       "      <td>8</td>\n",
       "      <td>Thu</td>\n",
       "      <td>AM</td>\n",
       "      <td>HIIT</td>\n",
       "      <td>0</td>\n",
       "    </tr>\n",
       "  </tbody>\n",
       "</table>\n",
       "</div>"
      ],
      "text/plain": [
       "   booking_id  months_as_member  weight days_before day_of_week time  \\\n",
       "0           1                17   79.56           8         Wed   PM   \n",
       "1           2                10   79.01           2         Mon   AM   \n",
       "2           3                16   74.53          14         Sun   AM   \n",
       "3           4                 5   86.12          10         Fri   AM   \n",
       "4           5                15   69.29           8         Thu   AM   \n",
       "\n",
       "   category  attended  \n",
       "0  Strength         0  \n",
       "1      HIIT         0  \n",
       "2  Strength         0  \n",
       "3   Cycling         0  \n",
       "4      HIIT         0  "
      ]
     },
     "execution_count": 362,
     "metadata": {},
     "output_type": "execute_result"
    }
   ],
   "source": [
    "data.head()"
   ]
  },
  {
   "cell_type": "code",
   "execution_count": 363,
   "id": "061ad992",
   "metadata": {},
   "outputs": [],
   "source": [
    "data.set_index('booking_id', inplace = True)"
   ]
  },
  {
   "cell_type": "code",
   "execution_count": 364,
   "id": "ca620400",
   "metadata": {},
   "outputs": [
    {
     "data": {
      "text/html": [
       "<div>\n",
       "<style scoped>\n",
       "    .dataframe tbody tr th:only-of-type {\n",
       "        vertical-align: middle;\n",
       "    }\n",
       "\n",
       "    .dataframe tbody tr th {\n",
       "        vertical-align: top;\n",
       "    }\n",
       "\n",
       "    .dataframe thead th {\n",
       "        text-align: right;\n",
       "    }\n",
       "</style>\n",
       "<table border=\"1\" class=\"dataframe\">\n",
       "  <thead>\n",
       "    <tr style=\"text-align: right;\">\n",
       "      <th></th>\n",
       "      <th>months_as_member</th>\n",
       "      <th>weight</th>\n",
       "      <th>days_before</th>\n",
       "      <th>day_of_week</th>\n",
       "      <th>time</th>\n",
       "      <th>category</th>\n",
       "      <th>attended</th>\n",
       "    </tr>\n",
       "    <tr>\n",
       "      <th>booking_id</th>\n",
       "      <th></th>\n",
       "      <th></th>\n",
       "      <th></th>\n",
       "      <th></th>\n",
       "      <th></th>\n",
       "      <th></th>\n",
       "      <th></th>\n",
       "    </tr>\n",
       "  </thead>\n",
       "  <tbody>\n",
       "    <tr>\n",
       "      <th>1</th>\n",
       "      <td>17</td>\n",
       "      <td>79.56</td>\n",
       "      <td>8</td>\n",
       "      <td>Wed</td>\n",
       "      <td>PM</td>\n",
       "      <td>Strength</td>\n",
       "      <td>0</td>\n",
       "    </tr>\n",
       "    <tr>\n",
       "      <th>2</th>\n",
       "      <td>10</td>\n",
       "      <td>79.01</td>\n",
       "      <td>2</td>\n",
       "      <td>Mon</td>\n",
       "      <td>AM</td>\n",
       "      <td>HIIT</td>\n",
       "      <td>0</td>\n",
       "    </tr>\n",
       "    <tr>\n",
       "      <th>3</th>\n",
       "      <td>16</td>\n",
       "      <td>74.53</td>\n",
       "      <td>14</td>\n",
       "      <td>Sun</td>\n",
       "      <td>AM</td>\n",
       "      <td>Strength</td>\n",
       "      <td>0</td>\n",
       "    </tr>\n",
       "    <tr>\n",
       "      <th>4</th>\n",
       "      <td>5</td>\n",
       "      <td>86.12</td>\n",
       "      <td>10</td>\n",
       "      <td>Fri</td>\n",
       "      <td>AM</td>\n",
       "      <td>Cycling</td>\n",
       "      <td>0</td>\n",
       "    </tr>\n",
       "    <tr>\n",
       "      <th>5</th>\n",
       "      <td>15</td>\n",
       "      <td>69.29</td>\n",
       "      <td>8</td>\n",
       "      <td>Thu</td>\n",
       "      <td>AM</td>\n",
       "      <td>HIIT</td>\n",
       "      <td>0</td>\n",
       "    </tr>\n",
       "  </tbody>\n",
       "</table>\n",
       "</div>"
      ],
      "text/plain": [
       "            months_as_member  weight days_before day_of_week time  category  \\\n",
       "booking_id                                                                    \n",
       "1                         17   79.56           8         Wed   PM  Strength   \n",
       "2                         10   79.01           2         Mon   AM      HIIT   \n",
       "3                         16   74.53          14         Sun   AM  Strength   \n",
       "4                          5   86.12          10         Fri   AM   Cycling   \n",
       "5                         15   69.29           8         Thu   AM      HIIT   \n",
       "\n",
       "            attended  \n",
       "booking_id            \n",
       "1                  0  \n",
       "2                  0  \n",
       "3                  0  \n",
       "4                  0  \n",
       "5                  0  "
      ]
     },
     "execution_count": 364,
     "metadata": {},
     "output_type": "execute_result"
    }
   ],
   "source": [
    "data.head()"
   ]
  },
  {
   "cell_type": "markdown",
   "id": "2944463d",
   "metadata": {},
   "source": [
    "-----------------------------------------------------------------------------"
   ]
  },
  {
   "cell_type": "markdown",
   "id": "38281b83",
   "metadata": {},
   "source": [
    "### Preprocessing Data"
   ]
  },
  {
   "cell_type": "markdown",
   "id": "f24a637e",
   "metadata": {},
   "source": [
    "Do a little missing data check up!"
   ]
  },
  {
   "cell_type": "code",
   "execution_count": 365,
   "id": "835e013a",
   "metadata": {},
   "outputs": [
    {
     "data": {
      "text/plain": [
       "months_as_member     0\n",
       "weight              20\n",
       "days_before          0\n",
       "day_of_week          0\n",
       "time                 0\n",
       "category             0\n",
       "attended             0\n",
       "dtype: int64"
      ]
     },
     "execution_count": 365,
     "metadata": {},
     "output_type": "execute_result"
    }
   ],
   "source": [
    "data.isnull().sum()"
   ]
  },
  {
   "cell_type": "markdown",
   "id": "21b1fa81",
   "metadata": {},
   "source": [
    "There is only 20 NA values in weight columns from all 1500 rows. So, I decided to drop all missing values."
   ]
  },
  {
   "cell_type": "code",
   "execution_count": 366,
   "id": "38935bfd",
   "metadata": {},
   "outputs": [],
   "source": [
    "data = data.dropna()"
   ]
  },
  {
   "cell_type": "code",
   "execution_count": 367,
   "id": "bfb7e36a",
   "metadata": {},
   "outputs": [
    {
     "data": {
      "text/plain": [
       "0"
      ]
     },
     "execution_count": 367,
     "metadata": {},
     "output_type": "execute_result"
    }
   ],
   "source": [
    "data.duplicated().sum()"
   ]
  },
  {
   "cell_type": "code",
   "execution_count": 368,
   "id": "1df52214",
   "metadata": {},
   "outputs": [
    {
     "name": "stdout",
     "output_type": "stream",
     "text": [
      "<class 'pandas.core.frame.DataFrame'>\n",
      "Int64Index: 1480 entries, 1 to 1500\n",
      "Data columns (total 7 columns):\n",
      " #   Column            Non-Null Count  Dtype  \n",
      "---  ------            --------------  -----  \n",
      " 0   months_as_member  1480 non-null   int64  \n",
      " 1   weight            1480 non-null   float64\n",
      " 2   days_before       1480 non-null   object \n",
      " 3   day_of_week       1480 non-null   object \n",
      " 4   time              1480 non-null   object \n",
      " 5   category          1480 non-null   object \n",
      " 6   attended          1480 non-null   int64  \n",
      "dtypes: float64(1), int64(2), object(4)\n",
      "memory usage: 92.5+ KB\n"
     ]
    }
   ],
   "source": [
    "data.info()"
   ]
  },
  {
   "cell_type": "code",
   "execution_count": 369,
   "id": "dff4f455",
   "metadata": {},
   "outputs": [
    {
     "data": {
      "text/plain": [
       "10         290\n",
       "2          197\n",
       "8          190\n",
       "12         177\n",
       "14         170\n",
       "4          153\n",
       "6           70\n",
       "7           37\n",
       "3           31\n",
       "5           27\n",
       "11          25\n",
       "13          25\n",
       "15          24\n",
       "9           23\n",
       "1            8\n",
       "10 days      6\n",
       "14 days      3\n",
       "12 days      3\n",
       "6 days       3\n",
       "4 days       3\n",
       "16           3\n",
       "17           3\n",
       "20           1\n",
       "2 days       1\n",
       "5 days       1\n",
       "7 days       1\n",
       "8 days       1\n",
       "1 days       1\n",
       "3 days       1\n",
       "13 days      1\n",
       "29           1\n",
       "Name: days_before, dtype: int64"
      ]
     },
     "execution_count": 369,
     "metadata": {},
     "output_type": "execute_result"
    }
   ],
   "source": [
    "data.days_before.value_counts()"
   ]
  },
  {
   "cell_type": "markdown",
   "id": "f2a41839",
   "metadata": {},
   "source": [
    "There are some excess words in data. So, it should be trimmed out then convert them to integer."
   ]
  },
  {
   "cell_type": "code",
   "execution_count": 370,
   "id": "7848fb46",
   "metadata": {},
   "outputs": [
    {
     "data": {
      "text/plain": [
       "10    296\n",
       "2     198\n",
       "8     191\n",
       "12    180\n",
       "14    173\n",
       "4     156\n",
       "6      73\n",
       "7      38\n",
       "3      32\n",
       "5      28\n",
       "13     26\n",
       "11     25\n",
       "15     24\n",
       "9      23\n",
       "1       9\n",
       "16      3\n",
       "17      3\n",
       "20      1\n",
       "29      1\n",
       "Name: days_before, dtype: int64"
      ]
     },
     "execution_count": 370,
     "metadata": {},
     "output_type": "execute_result"
    }
   ],
   "source": [
    "data['days_before'] = data.days_before.str.strip(' days').astype('int')\n",
    "data.days_before.value_counts()"
   ]
  },
  {
   "cell_type": "markdown",
   "id": "f55b7a1c",
   "metadata": {},
   "source": [
    "That's what we want!\n",
    "Let's check the next one, day_of_week."
   ]
  },
  {
   "cell_type": "code",
   "execution_count": 371,
   "id": "d22df056",
   "metadata": {},
   "outputs": [
    {
     "data": {
      "text/plain": [
       "Fri          277\n",
       "Thu          235\n",
       "Mon          215\n",
       "Sun          211\n",
       "Sat          200\n",
       "Tue          192\n",
       "Wed           79\n",
       "Wednesday     35\n",
       "Fri.          26\n",
       "Monday        10\n",
       "Name: day_of_week, dtype: int64"
      ]
     },
     "execution_count": 371,
     "metadata": {},
     "output_type": "execute_result"
    }
   ],
   "source": [
    "data.day_of_week.value_counts()"
   ]
  },
  {
   "cell_type": "markdown",
   "id": "f1983c9a",
   "metadata": {},
   "source": [
    "There are some exceed categories which are duplicated with other. Let's change them to the right one."
   ]
  },
  {
   "cell_type": "code",
   "execution_count": 372,
   "id": "ecdaa272",
   "metadata": {},
   "outputs": [],
   "source": [
    "mapping = {'Fri.':'Fri', 'Wednesday':'Wed', 'Monday':'Mon'}\n",
    "day = ['Mon', 'Tue', 'Wed', 'Thu', 'Fri', 'Sat', 'Sun']"
   ]
  },
  {
   "cell_type": "code",
   "execution_count": 373,
   "id": "a8ad2476",
   "metadata": {
    "scrolled": true
   },
   "outputs": [
    {
     "data": {
      "text/plain": [
       "Fri          277\n",
       "Thu          235\n",
       "Mon          215\n",
       "Sun          211\n",
       "Sat          200\n",
       "Tue          192\n",
       "Wed           79\n",
       "Wednesday     35\n",
       "Fri.          26\n",
       "Monday        10\n",
       "Name: day_of_week, dtype: int64"
      ]
     },
     "execution_count": 373,
     "metadata": {},
     "output_type": "execute_result"
    }
   ],
   "source": [
    "data.day_of_week.value_counts()"
   ]
  },
  {
   "cell_type": "markdown",
   "id": "e3b3ea44",
   "metadata": {},
   "source": [
    "Great!\n",
    "Then, it will be great if 'day_of_week' feature is sortable. It makes me easier for data visualization."
   ]
  },
  {
   "cell_type": "code",
   "execution_count": 374,
   "id": "ec495a66",
   "metadata": {},
   "outputs": [],
   "source": [
    "days = ['Mon', 'Tue', 'Wed', 'Thu', 'Fri', 'Sat', 'Sun']\n",
    "data.day_of_week = pd.Categorical(data.day_of_week, categories = days)"
   ]
  },
  {
   "cell_type": "code",
   "execution_count": 375,
   "id": "c6636647",
   "metadata": {},
   "outputs": [
    {
     "data": {
      "text/plain": [
       "AM    1130\n",
       "PM     350\n",
       "Name: time, dtype: int64"
      ]
     },
     "execution_count": 375,
     "metadata": {},
     "output_type": "execute_result"
    }
   ],
   "source": [
    "data.time.value_counts()"
   ]
  },
  {
   "cell_type": "code",
   "execution_count": 376,
   "id": "759bbc34",
   "metadata": {},
   "outputs": [
    {
     "data": {
      "text/plain": [
       "HIIT        657\n",
       "Cycling     370\n",
       "Strength    231\n",
       "Yoga        135\n",
       "Aqua         74\n",
       "-            13\n",
       "Name: category, dtype: int64"
      ]
     },
     "execution_count": 376,
     "metadata": {},
     "output_type": "execute_result"
    }
   ],
   "source": [
    "data.category.value_counts()"
   ]
  },
  {
   "cell_type": "code",
   "execution_count": 377,
   "id": "99b179b4",
   "metadata": {},
   "outputs": [
    {
     "data": {
      "text/plain": [
       "0    1031\n",
       "1     449\n",
       "Name: attended, dtype: int64"
      ]
     },
     "execution_count": 377,
     "metadata": {},
     "output_type": "execute_result"
    }
   ],
   "source": [
    "data.attended.value_counts()"
   ]
  },
  {
   "cell_type": "code",
   "execution_count": 378,
   "id": "9a92c2ca",
   "metadata": {},
   "outputs": [
    {
     "data": {
      "text/html": [
       "<div>\n",
       "<style scoped>\n",
       "    .dataframe tbody tr th:only-of-type {\n",
       "        vertical-align: middle;\n",
       "    }\n",
       "\n",
       "    .dataframe tbody tr th {\n",
       "        vertical-align: top;\n",
       "    }\n",
       "\n",
       "    .dataframe thead th {\n",
       "        text-align: right;\n",
       "    }\n",
       "</style>\n",
       "<table border=\"1\" class=\"dataframe\">\n",
       "  <thead>\n",
       "    <tr style=\"text-align: right;\">\n",
       "      <th></th>\n",
       "      <th>months_as_member</th>\n",
       "      <th>weight</th>\n",
       "      <th>days_before</th>\n",
       "      <th>day_of_week</th>\n",
       "      <th>time</th>\n",
       "      <th>category</th>\n",
       "      <th>attended</th>\n",
       "    </tr>\n",
       "    <tr>\n",
       "      <th>booking_id</th>\n",
       "      <th></th>\n",
       "      <th></th>\n",
       "      <th></th>\n",
       "      <th></th>\n",
       "      <th></th>\n",
       "      <th></th>\n",
       "      <th></th>\n",
       "    </tr>\n",
       "  </thead>\n",
       "  <tbody>\n",
       "    <tr>\n",
       "      <th>1</th>\n",
       "      <td>17</td>\n",
       "      <td>79.56</td>\n",
       "      <td>8</td>\n",
       "      <td>Wed</td>\n",
       "      <td>PM</td>\n",
       "      <td>Strength</td>\n",
       "      <td>0</td>\n",
       "    </tr>\n",
       "    <tr>\n",
       "      <th>2</th>\n",
       "      <td>10</td>\n",
       "      <td>79.01</td>\n",
       "      <td>2</td>\n",
       "      <td>Mon</td>\n",
       "      <td>AM</td>\n",
       "      <td>HIIT</td>\n",
       "      <td>0</td>\n",
       "    </tr>\n",
       "    <tr>\n",
       "      <th>3</th>\n",
       "      <td>16</td>\n",
       "      <td>74.53</td>\n",
       "      <td>14</td>\n",
       "      <td>Sun</td>\n",
       "      <td>AM</td>\n",
       "      <td>Strength</td>\n",
       "      <td>0</td>\n",
       "    </tr>\n",
       "    <tr>\n",
       "      <th>4</th>\n",
       "      <td>5</td>\n",
       "      <td>86.12</td>\n",
       "      <td>10</td>\n",
       "      <td>Fri</td>\n",
       "      <td>AM</td>\n",
       "      <td>Cycling</td>\n",
       "      <td>0</td>\n",
       "    </tr>\n",
       "    <tr>\n",
       "      <th>5</th>\n",
       "      <td>15</td>\n",
       "      <td>69.29</td>\n",
       "      <td>8</td>\n",
       "      <td>Thu</td>\n",
       "      <td>AM</td>\n",
       "      <td>HIIT</td>\n",
       "      <td>0</td>\n",
       "    </tr>\n",
       "  </tbody>\n",
       "</table>\n",
       "</div>"
      ],
      "text/plain": [
       "            months_as_member  weight  days_before day_of_week time  category  \\\n",
       "booking_id                                                                     \n",
       "1                         17   79.56            8         Wed   PM  Strength   \n",
       "2                         10   79.01            2         Mon   AM      HIIT   \n",
       "3                         16   74.53           14         Sun   AM  Strength   \n",
       "4                          5   86.12           10         Fri   AM   Cycling   \n",
       "5                         15   69.29            8         Thu   AM      HIIT   \n",
       "\n",
       "            attended  \n",
       "booking_id            \n",
       "1                  0  \n",
       "2                  0  \n",
       "3                  0  \n",
       "4                  0  \n",
       "5                  0  "
      ]
     },
     "execution_count": 378,
     "metadata": {},
     "output_type": "execute_result"
    }
   ],
   "source": [
    "data.head()"
   ]
  },
  {
   "cell_type": "markdown",
   "id": "55b6f3c5",
   "metadata": {},
   "source": [
    "### Exploratory Data Analysis"
   ]
  },
  {
   "attachments": {},
   "cell_type": "markdown",
   "id": "d5866cce",
   "metadata": {},
   "source": [
    "**How many bookings attended the class?**"
   ]
  },
  {
   "cell_type": "code",
   "execution_count": 389,
   "id": "41d37c56",
   "metadata": {},
   "outputs": [
    {
     "data": {
      "image/png": "[encoded data removed]",
      "text/plain": [
       "<Figure size 360x360 with 1 Axes>"
      ]
     },
     "metadata": {
      "needs_background": "light"
     },
     "output_type": "display_data"
    }
   ],
   "source": [
    "sns.catplot(data = data, x = 'attended', kind = 'count', palette=['red', 'green'])\n",
    "plt.title('Count of Target Variable - Booking Attendance')\n",
    "plt.show()"
   ]
  },
  {
   "attachments": {},
   "cell_type": "markdown",
   "id": "274949ff",
   "metadata": {},
   "source": [
    "From above graph, the data is imbalance. Almost 70% of bookings were not attended."
   ]
  },
  {
   "attachments": {},
   "cell_type": "markdown",
   "id": "44fb56c5",
   "metadata": {},
   "source": [
    "**The Distribution of the Number of Months As a Member.**"
   ]
  },
  {
   "cell_type": "code",
   "execution_count": 380,
   "id": "317a9500",
   "metadata": {},
   "outputs": [
    {
     "data": {
      "image/png": "[encoded data removed]",
      "text/plain": [
       "<Figure size 360x360 with 1 Axes>"
      ]
     },
     "metadata": {
      "needs_background": "light"
     },
     "output_type": "display_data"
    }
   ],
   "source": [
    "sns.catplot(data = data, x = 'months_as_member', kind = 'box')\n",
    "plt.title('The Distribution of the Number of Months as a Member')\n",
    "plt.show()"
   ]
  },
  {
   "attachments": {},
   "cell_type": "markdown",
   "id": "b1a8cace",
   "metadata": {},
   "source": [
    "The distribution of the number of months as member is very skewed. Most of members have stayed in membership between 1 - 40 months. From boxplot, over 75 percent of members have been in membership less than 20 months."
   ]
  },
  {
   "attachments": {},
   "cell_type": "markdown",
   "id": "5477fa61",
   "metadata": {},
   "source": [
    "**Attendance vs. Months as a member**"
   ]
  },
  {
   "cell_type": "code",
   "execution_count": 381,
   "id": "080fb710",
   "metadata": {},
   "outputs": [
    {
     "data": {
      "image/png": "[encoded data removed]",
      "text/plain": [
       "<Figure size 864x432 with 2 Axes>"
      ]
     },
     "metadata": {
      "needs_background": "light"
     },
     "output_type": "display_data"
    }
   ],
   "source": [
    "fig, (ax1, ax2) = plt.subplots(1,2, figsize=(12, 6))\n",
    "\n",
    "sns.histplot(data = data, x = 'months_as_member', hue = 'attended', ax = ax1, palette=['red', 'green'])\n",
    "ax1.set_title('Months as a Member vs. Attendance (Histogram)')\n",
    "\n",
    "data['attended'] = data['attended'].astype('category')\n",
    "sns.boxplot(data = data, x = 'months_as_member', y = 'attended', ax = ax2, palette=['red', 'green'])\n",
    "ax2.set_title('Months as a Member vs. Attendance (Box plot)')\n",
    "plt.show(fig)"
   ]
  },
  {
   "attachments": {},
   "cell_type": "markdown",
   "id": "66bc61d4",
   "metadata": {},
   "source": [
    "There are very low attendance rate between 1 - 20 months. After 20 months, members tend to attend the booked classed more than not. We will see that the data is significantly right-skewed.\n",
    "\n",
    "The data range of members who **did not attend** and **attended** are clearly different. The class 0 is obviously less. We will see that the 75th percentile of class 0 is about the 25th percentile of class 1.\n",
    "\n",
    "It is clearly found that **members who has been a membership for longer time tend to attend class more.** "
   ]
  },
  {
   "attachments": {},
   "cell_type": "markdown",
   "id": "fa7d7c1c",
   "metadata": {},
   "source": [
    "**Membership duration vs. Weight**"
   ]
  },
  {
   "cell_type": "code",
   "execution_count": 382,
   "id": "d8576b10",
   "metadata": {},
   "outputs": [
    {
     "data": {
      "image/png": "[encoded data removed]",
      "text/plain": [
       "<Figure size 432x288 with 1 Axes>"
      ]
     },
     "metadata": {
      "needs_background": "light"
     },
     "output_type": "display_data"
    }
   ],
   "source": [
    "markers = {1: \"o\", 0 : \"X\"}\n",
    "sns.scatterplot(data = data, x = 'months_as_member', y = 'weight', hue = 'attended', palette=['red', 'green'], markers = markers, style = 'attended')\n",
    "plt.title('Membership duration vs. Weight of members')\n",
    "plt.ylabel('Weight (kgs)')\n",
    "plt.show()"
   ]
  },
  {
   "attachments": {},
   "cell_type": "markdown",
   "id": "b723a2b7",
   "metadata": {},
   "source": [
    "Membors who have been in memborship longer and has less weight attend their booked class more often, **significantly**."
   ]
  },
  {
   "attachments": {},
   "cell_type": "markdown",
   "id": "48cfa003",
   "metadata": {},
   "source": [
    "### Preprocessing Data for machine learning model"
   ]
  },
  {
   "cell_type": "code",
   "execution_count": 383,
   "id": "7ea458b6",
   "metadata": {},
   "outputs": [],
   "source": [
    "day_dummies = pd.get_dummies(data['day_of_week'], drop_first=True)\n",
    "category_dummies = pd.get_dummies(data['category'], drop_first= True)\n",
    "data = pd.concat([data, day_dummies, category_dummies], axis = 1)\n",
    "data = data.drop(['day_of_week', 'category'], axis = 1)\n",
    "data['attended'] = data['attended'].astype('int')\n",
    "data['time'] = data['time'].map({'AM':0, 'PM':1})"
   ]
  },
  {
   "cell_type": "code",
   "execution_count": 384,
   "id": "f39270f7",
   "metadata": {},
   "outputs": [
    {
     "name": "stdout",
     "output_type": "stream",
     "text": [
      "<class 'pandas.core.frame.DataFrame'>\n",
      "Int64Index: 1480 entries, 1 to 1500\n",
      "Data columns (total 16 columns):\n",
      " #   Column            Non-Null Count  Dtype  \n",
      "---  ------            --------------  -----  \n",
      " 0   months_as_member  1480 non-null   int64  \n",
      " 1   weight            1480 non-null   float64\n",
      " 2   days_before       1480 non-null   int32  \n",
      " 3   time              1480 non-null   int64  \n",
      " 4   attended          1480 non-null   int32  \n",
      " 5   Tue               1480 non-null   uint8  \n",
      " 6   Wed               1480 non-null   uint8  \n",
      " 7   Thu               1480 non-null   uint8  \n",
      " 8   Fri               1480 non-null   uint8  \n",
      " 9   Sat               1480 non-null   uint8  \n",
      " 10  Sun               1480 non-null   uint8  \n",
      " 11  Aqua              1480 non-null   uint8  \n",
      " 12  Cycling           1480 non-null   uint8  \n",
      " 13  HIIT              1480 non-null   uint8  \n",
      " 14  Strength          1480 non-null   uint8  \n",
      " 15  Yoga              1480 non-null   uint8  \n",
      "dtypes: float64(1), int32(2), int64(2), uint8(11)\n",
      "memory usage: 106.0 KB\n"
     ]
    }
   ],
   "source": [
    "data.info()"
   ]
  },
  {
   "cell_type": "code",
   "execution_count": 385,
   "id": "72aed5b1",
   "metadata": {},
   "outputs": [],
   "source": [
    "X = data.drop('attended', axis = 1)\n",
    "y = data['attended']\n",
    "X_train, X_test, y_train, y_test = train_test_split(X, y, test_size = 0.3, stratify = y, random_state = 42)"
   ]
  },
  {
   "attachments": {},
   "cell_type": "markdown",
   "id": "9db11152",
   "metadata": {},
   "source": [
    "### Create model"
   ]
  },
  {
   "cell_type": "code",
   "execution_count": 386,
   "id": "06f7b3d4",
   "metadata": {},
   "outputs": [
    {
     "name": "stdout",
     "output_type": "stream",
     "text": [
      "The Accuracy of Logistic Regression model is : 0.76\n"
     ]
    },
    {
     "name": "stderr",
     "output_type": "stream",
     "text": [
      "c:\\Users\\User\\anaconda3\\lib\\site-packages\\sklearn\\linear_model\\_logistic.py:763: ConvergenceWarning: lbfgs failed to converge (status=1):\n",
      "STOP: TOTAL NO. of ITERATIONS REACHED LIMIT.\n",
      "\n",
      "Increase the number of iterations (max_iter) or scale the data as shown in:\n",
      "    https://scikit-learn.org/stable/modules/preprocessing.html\n",
      "Please also refer to the documentation for alternative solver options:\n",
      "    https://scikit-learn.org/stable/modules/linear_model.html#logistic-regression\n",
      "  n_iter_i = _check_optimize_result(\n"
     ]
    }
   ],
   "source": [
    "logreg = LogisticRegression()\n",
    "logreg.fit(X_train, y_train)\n",
    "y_pred_log = logreg.predict(X_test)\n",
    "print('The Accuracy of Logistic Regression model is : {:.2f}'.format(accuracy_score(y_test, y_pred_log)))"
   ]
  },
  {
   "cell_type": "code",
   "execution_count": 387,
   "id": "f6611f5e",
   "metadata": {},
   "outputs": [
    {
     "name": "stdout",
     "output_type": "stream",
     "text": [
      "The Accuracy of Random Forest model is 0.77\n"
     ]
    }
   ],
   "source": [
    "rf = RandomForestClassifier(max_depth=6,\n",
    "                            random_state=42)\n",
    "rf.fit(X_train, y_train)\n",
    "y_pred_rf = rf.predict(X_test)\n",
    "print('The Accuracy of Random Forest model is {:.2f}'.format(accuracy_score(y_test, y_pred_rf)))"
   ]
  },
  {
   "cell_type": "code",
   "execution_count": 388,
   "id": "05ba892f",
   "metadata": {},
   "outputs": [
    {
     "name": "stdout",
     "output_type": "stream",
     "text": [
      "[[280  29]\n",
      " [ 76  59]]\n",
      "[[279  30]\n",
      " [ 70  65]]\n",
      "              precision    recall  f1-score   support\n",
      "\n",
      "           0       0.80      0.90      0.85       309\n",
      "           1       0.68      0.48      0.57       135\n",
      "\n",
      "    accuracy                           0.77       444\n",
      "   macro avg       0.74      0.69      0.71       444\n",
      "weighted avg       0.76      0.77      0.76       444\n",
      "\n"
     ]
    }
   ],
   "source": [
    "print(confusion_matrix(y_test, y_pred_log))\n",
    "print(confusion_matrix(y_test, y_pred_rf))\n",
    "print(classification_report(y_test, y_pred_rf))"
   ]
  },
  {
   "attachments": {},
   "cell_type": "markdown",
   "id": "8e7b49e7",
   "metadata": {},
   "source": [
    "From confusion matrix, the random forest model is better."
   ]
  },
  {
   "attachments": {},
   "cell_type": "markdown",
   "id": "7e8d5f5b",
   "metadata": {},
   "source": [
    "### Conclusion\n",
    "\n",
    "We can create the model using random forest classifier that can predict attendance with **precision of 80%**. Moreover, we found some useful insights as well. However, it is not the best yet. We can perform hyperparameter tuning to continue.\n",
    "\n",
    "Thanks for reading\n",
    "\n",
    "Puchong S."
   ]
  }
 ],
 "metadata": {
  "kernelspec": {
   "display_name": "Python 3 (ipykernel)",
   "language": "python",
   "name": "python3"
  },
  "language_info": {
   "codemirror_mode": {
    "name": "ipython",
    "version": 3
   },
   "file_extension": ".py",
   "mimetype": "text/x-python",
   "name": "python",
   "nbconvert_exporter": "python",
   "pygments_lexer": "ipython3",
   "version": "3.9.7"
  }
 },
 "nbformat": 4,
 "nbformat_minor": 5
}
