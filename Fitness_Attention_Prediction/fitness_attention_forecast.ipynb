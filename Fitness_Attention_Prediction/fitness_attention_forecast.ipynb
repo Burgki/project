{
 "cells": [
  {
   "attachments": {},
   "cell_type": "markdown",
   "id": "ce7849da",
   "metadata": {},
   "source": [
    "# Fitness Class Attention\n",
    "**Signature** : *Puchong Saribut*"
   ]
  },
  {
   "attachments": {},
   "cell_type": "markdown",
   "id": "0db4dc66",
   "metadata": {},
   "source": [
    "**Problem** : Many membors reserved a class but didn't attend.\n",
    "\n",
    "**Requirement** : Predict new incoming booking whether membor will attend or not.\n",
    "\n",
    "**Business outcome** : Fitness can serve their class to more customers. More membors in a class, more impressive, better experience.\n",
    "\n",
    "This notebook will show :\n",
    "1. Some insights that probably be helpful.\n",
    "2. Maching learning model to predict whether membor will join the class or not."
   ]
  },
  {
   "cell_type": "markdown",
   "id": "a9f981ad",
   "metadata": {},
   "source": [
    "**Note for myself**\n",
    "- Good data structure\n",
    "- Good visualization"
   ]
  },
  {
   "cell_type": "code",
   "execution_count": 469,
   "id": "4d16e245",
   "metadata": {},
   "outputs": [],
   "source": [
    "#import module\n",
    "import pandas as pd \n",
    "import matplotlib.pyplot as plt\n",
    "import seaborn as sns\n",
    "import numpy as np\n",
    "\n",
    "from sklearn.model_selection import train_test_split"
   ]
  },
  {
   "cell_type": "markdown",
   "id": "35f73a81",
   "metadata": {},
   "source": [
    "**Import raw data (local file)**"
   ]
  },
  {
   "cell_type": "code",
   "execution_count": 470,
   "id": "de4a96ee",
   "metadata": {},
   "outputs": [],
   "source": [
    "file_path = '/Users/User/Documents/GitHub/project/Fitness_Attention_Prediction/fitness_class_2212.csv'\n",
    "data = pd.read_csv(file_path)"
   ]
  },
  {
   "cell_type": "code",
   "execution_count": 471,
   "id": "1728a76b",
   "metadata": {},
   "outputs": [
    {
     "data": {
      "text/html": [
       "<div>\n",
       "<style scoped>\n",
       "    .dataframe tbody tr th:only-of-type {\n",
       "        vertical-align: middle;\n",
       "    }\n",
       "\n",
       "    .dataframe tbody tr th {\n",
       "        vertical-align: top;\n",
       "    }\n",
       "\n",
       "    .dataframe thead th {\n",
       "        text-align: right;\n",
       "    }\n",
       "</style>\n",
       "<table border=\"1\" class=\"dataframe\">\n",
       "  <thead>\n",
       "    <tr style=\"text-align: right;\">\n",
       "      <th></th>\n",
       "      <th>booking_id</th>\n",
       "      <th>months_as_member</th>\n",
       "      <th>weight</th>\n",
       "      <th>days_before</th>\n",
       "      <th>day_of_week</th>\n",
       "      <th>time</th>\n",
       "      <th>category</th>\n",
       "      <th>attended</th>\n",
       "    </tr>\n",
       "  </thead>\n",
       "  <tbody>\n",
       "    <tr>\n",
       "      <th>0</th>\n",
       "      <td>1</td>\n",
       "      <td>17</td>\n",
       "      <td>79.56</td>\n",
       "      <td>8</td>\n",
       "      <td>Wed</td>\n",
       "      <td>PM</td>\n",
       "      <td>Strength</td>\n",
       "      <td>0</td>\n",
       "    </tr>\n",
       "    <tr>\n",
       "      <th>1</th>\n",
       "      <td>2</td>\n",
       "      <td>10</td>\n",
       "      <td>79.01</td>\n",
       "      <td>2</td>\n",
       "      <td>Mon</td>\n",
       "      <td>AM</td>\n",
       "      <td>HIIT</td>\n",
       "      <td>0</td>\n",
       "    </tr>\n",
       "    <tr>\n",
       "      <th>2</th>\n",
       "      <td>3</td>\n",
       "      <td>16</td>\n",
       "      <td>74.53</td>\n",
       "      <td>14</td>\n",
       "      <td>Sun</td>\n",
       "      <td>AM</td>\n",
       "      <td>Strength</td>\n",
       "      <td>0</td>\n",
       "    </tr>\n",
       "    <tr>\n",
       "      <th>3</th>\n",
       "      <td>4</td>\n",
       "      <td>5</td>\n",
       "      <td>86.12</td>\n",
       "      <td>10</td>\n",
       "      <td>Fri</td>\n",
       "      <td>AM</td>\n",
       "      <td>Cycling</td>\n",
       "      <td>0</td>\n",
       "    </tr>\n",
       "    <tr>\n",
       "      <th>4</th>\n",
       "      <td>5</td>\n",
       "      <td>15</td>\n",
       "      <td>69.29</td>\n",
       "      <td>8</td>\n",
       "      <td>Thu</td>\n",
       "      <td>AM</td>\n",
       "      <td>HIIT</td>\n",
       "      <td>0</td>\n",
       "    </tr>\n",
       "  </tbody>\n",
       "</table>\n",
       "</div>"
      ],
      "text/plain": [
       "   booking_id  months_as_member  weight days_before day_of_week time  \\\n",
       "0           1                17   79.56           8         Wed   PM   \n",
       "1           2                10   79.01           2         Mon   AM   \n",
       "2           3                16   74.53          14         Sun   AM   \n",
       "3           4                 5   86.12          10         Fri   AM   \n",
       "4           5                15   69.29           8         Thu   AM   \n",
       "\n",
       "   category  attended  \n",
       "0  Strength         0  \n",
       "1      HIIT         0  \n",
       "2  Strength         0  \n",
       "3   Cycling         0  \n",
       "4      HIIT         0  "
      ]
     },
     "execution_count": 471,
     "metadata": {},
     "output_type": "execute_result"
    }
   ],
   "source": [
    "data.head()"
   ]
  },
  {
   "cell_type": "code",
   "execution_count": 472,
   "id": "061ad992",
   "metadata": {},
   "outputs": [],
   "source": [
    "data.set_index('booking_id', inplace = True)"
   ]
  },
  {
   "cell_type": "code",
   "execution_count": 473,
   "id": "f108f39e",
   "metadata": {},
   "outputs": [
    {
     "data": {
      "text/html": [
       "<div>\n",
       "<style scoped>\n",
       "    .dataframe tbody tr th:only-of-type {\n",
       "        vertical-align: middle;\n",
       "    }\n",
       "\n",
       "    .dataframe tbody tr th {\n",
       "        vertical-align: top;\n",
       "    }\n",
       "\n",
       "    .dataframe thead th {\n",
       "        text-align: right;\n",
       "    }\n",
       "</style>\n",
       "<table border=\"1\" class=\"dataframe\">\n",
       "  <thead>\n",
       "    <tr style=\"text-align: right;\">\n",
       "      <th></th>\n",
       "      <th>months_as_member</th>\n",
       "      <th>weight</th>\n",
       "      <th>days_before</th>\n",
       "      <th>day_of_week</th>\n",
       "      <th>time</th>\n",
       "      <th>category</th>\n",
       "      <th>attended</th>\n",
       "    </tr>\n",
       "    <tr>\n",
       "      <th>booking_id</th>\n",
       "      <th></th>\n",
       "      <th></th>\n",
       "      <th></th>\n",
       "      <th></th>\n",
       "      <th></th>\n",
       "      <th></th>\n",
       "      <th></th>\n",
       "    </tr>\n",
       "  </thead>\n",
       "  <tbody>\n",
       "    <tr>\n",
       "      <th>1</th>\n",
       "      <td>17</td>\n",
       "      <td>79.56</td>\n",
       "      <td>8</td>\n",
       "      <td>Wed</td>\n",
       "      <td>PM</td>\n",
       "      <td>Strength</td>\n",
       "      <td>0</td>\n",
       "    </tr>\n",
       "    <tr>\n",
       "      <th>2</th>\n",
       "      <td>10</td>\n",
       "      <td>79.01</td>\n",
       "      <td>2</td>\n",
       "      <td>Mon</td>\n",
       "      <td>AM</td>\n",
       "      <td>HIIT</td>\n",
       "      <td>0</td>\n",
       "    </tr>\n",
       "    <tr>\n",
       "      <th>3</th>\n",
       "      <td>16</td>\n",
       "      <td>74.53</td>\n",
       "      <td>14</td>\n",
       "      <td>Sun</td>\n",
       "      <td>AM</td>\n",
       "      <td>Strength</td>\n",
       "      <td>0</td>\n",
       "    </tr>\n",
       "    <tr>\n",
       "      <th>4</th>\n",
       "      <td>5</td>\n",
       "      <td>86.12</td>\n",
       "      <td>10</td>\n",
       "      <td>Fri</td>\n",
       "      <td>AM</td>\n",
       "      <td>Cycling</td>\n",
       "      <td>0</td>\n",
       "    </tr>\n",
       "    <tr>\n",
       "      <th>5</th>\n",
       "      <td>15</td>\n",
       "      <td>69.29</td>\n",
       "      <td>8</td>\n",
       "      <td>Thu</td>\n",
       "      <td>AM</td>\n",
       "      <td>HIIT</td>\n",
       "      <td>0</td>\n",
       "    </tr>\n",
       "  </tbody>\n",
       "</table>\n",
       "</div>"
      ],
      "text/plain": [
       "            months_as_member  weight days_before day_of_week time  category  \\\n",
       "booking_id                                                                    \n",
       "1                         17   79.56           8         Wed   PM  Strength   \n",
       "2                         10   79.01           2         Mon   AM      HIIT   \n",
       "3                         16   74.53          14         Sun   AM  Strength   \n",
       "4                          5   86.12          10         Fri   AM   Cycling   \n",
       "5                         15   69.29           8         Thu   AM      HIIT   \n",
       "\n",
       "            attended  \n",
       "booking_id            \n",
       "1                  0  \n",
       "2                  0  \n",
       "3                  0  \n",
       "4                  0  \n",
       "5                  0  "
      ]
     },
     "execution_count": 473,
     "metadata": {},
     "output_type": "execute_result"
    }
   ],
   "source": [
    "data.head()"
   ]
  },
  {
   "cell_type": "markdown",
   "id": "2944463d",
   "metadata": {},
   "source": [
    "-----------------------------------------------------------------------------"
   ]
  },
  {
   "attachments": {},
   "cell_type": "markdown",
   "id": "38281b83",
   "metadata": {},
   "source": [
    "### Preprocessing Data"
   ]
  },
  {
   "attachments": {},
   "cell_type": "markdown",
   "id": "f24a637e",
   "metadata": {},
   "source": [
    "Do a little missing data check up!"
   ]
  },
  {
   "cell_type": "code",
   "execution_count": 474,
   "id": "835e013a",
   "metadata": {},
   "outputs": [
    {
     "data": {
      "text/plain": [
       "months_as_member     0\n",
       "weight              20\n",
       "days_before          0\n",
       "day_of_week          0\n",
       "time                 0\n",
       "category             0\n",
       "attended             0\n",
       "dtype: int64"
      ]
     },
     "execution_count": 474,
     "metadata": {},
     "output_type": "execute_result"
    }
   ],
   "source": [
    "data.isnull().sum()"
   ]
  },
  {
   "attachments": {},
   "cell_type": "markdown",
   "id": "21b1fa81",
   "metadata": {},
   "source": [
    "There is only 20 NA values in weight columns from all 1500 rows. So, I decided to drop all missing values."
   ]
  },
  {
   "cell_type": "code",
   "execution_count": 475,
   "id": "38935bfd",
   "metadata": {},
   "outputs": [],
   "source": [
    "data = data.dropna()"
   ]
  },
  {
   "cell_type": "code",
   "execution_count": 476,
   "id": "bfb7e36a",
   "metadata": {},
   "outputs": [
    {
     "data": {
      "text/plain": [
       "0"
      ]
     },
     "execution_count": 476,
     "metadata": {},
     "output_type": "execute_result"
    }
   ],
   "source": [
    "data.duplicated().sum()"
   ]
  },
  {
   "cell_type": "code",
   "execution_count": 477,
   "id": "1df52214",
   "metadata": {},
   "outputs": [
    {
     "name": "stdout",
     "output_type": "stream",
     "text": [
      "<class 'pandas.core.frame.DataFrame'>\n",
      "Int64Index: 1480 entries, 1 to 1500\n",
      "Data columns (total 7 columns):\n",
      " #   Column            Non-Null Count  Dtype  \n",
      "---  ------            --------------  -----  \n",
      " 0   months_as_member  1480 non-null   int64  \n",
      " 1   weight            1480 non-null   float64\n",
      " 2   days_before       1480 non-null   object \n",
      " 3   day_of_week       1480 non-null   object \n",
      " 4   time              1480 non-null   object \n",
      " 5   category          1480 non-null   object \n",
      " 6   attended          1480 non-null   int64  \n",
      "dtypes: float64(1), int64(2), object(4)\n",
      "memory usage: 92.5+ KB\n"
     ]
    }
   ],
   "source": [
    "data.info()"
   ]
  },
  {
   "cell_type": "code",
   "execution_count": 478,
   "id": "dff4f455",
   "metadata": {},
   "outputs": [
    {
     "data": {
      "text/plain": [
       "10         290\n",
       "2          197\n",
       "8          190\n",
       "12         177\n",
       "14         170\n",
       "4          153\n",
       "6           70\n",
       "7           37\n",
       "3           31\n",
       "5           27\n",
       "11          25\n",
       "13          25\n",
       "15          24\n",
       "9           23\n",
       "1            8\n",
       "10 days      6\n",
       "14 days      3\n",
       "12 days      3\n",
       "6 days       3\n",
       "4 days       3\n",
       "16           3\n",
       "17           3\n",
       "20           1\n",
       "2 days       1\n",
       "5 days       1\n",
       "7 days       1\n",
       "8 days       1\n",
       "1 days       1\n",
       "3 days       1\n",
       "13 days      1\n",
       "29           1\n",
       "Name: days_before, dtype: int64"
      ]
     },
     "execution_count": 478,
     "metadata": {},
     "output_type": "execute_result"
    }
   ],
   "source": [
    "data.days_before.value_counts()"
   ]
  },
  {
   "attachments": {},
   "cell_type": "markdown",
   "id": "f2a41839",
   "metadata": {},
   "source": [
    "There are some excess words in data. So, it should be trimmed out then convert them to integer."
   ]
  },
  {
   "cell_type": "code",
   "execution_count": 479,
   "id": "7848fb46",
   "metadata": {},
   "outputs": [
    {
     "data": {
      "text/plain": [
       "10    296\n",
       "2     198\n",
       "8     191\n",
       "12    180\n",
       "14    173\n",
       "4     156\n",
       "6      73\n",
       "7      38\n",
       "3      32\n",
       "5      28\n",
       "13     26\n",
       "11     25\n",
       "15     24\n",
       "9      23\n",
       "1       9\n",
       "16      3\n",
       "17      3\n",
       "20      1\n",
       "29      1\n",
       "Name: days_before, dtype: int64"
      ]
     },
     "execution_count": 479,
     "metadata": {},
     "output_type": "execute_result"
    }
   ],
   "source": [
    "data['days_before'] = data.days_before.str.strip(' days').astype('int')\n",
    "data.days_before.value_counts()"
   ]
  },
  {
   "attachments": {},
   "cell_type": "markdown",
   "id": "f55b7a1c",
   "metadata": {},
   "source": [
    "That's what we want!\n",
    "Let's check the next one, day_of_week."
   ]
  },
  {
   "cell_type": "code",
   "execution_count": 480,
   "id": "d22df056",
   "metadata": {},
   "outputs": [
    {
     "data": {
      "text/plain": [
       "Fri          277\n",
       "Thu          235\n",
       "Mon          215\n",
       "Sun          211\n",
       "Sat          200\n",
       "Tue          192\n",
       "Wed           79\n",
       "Wednesday     35\n",
       "Fri.          26\n",
       "Monday        10\n",
       "Name: day_of_week, dtype: int64"
      ]
     },
     "execution_count": 480,
     "metadata": {},
     "output_type": "execute_result"
    }
   ],
   "source": [
    "data.day_of_week.value_counts()"
   ]
  },
  {
   "attachments": {},
   "cell_type": "markdown",
   "id": "f1983c9a",
   "metadata": {},
   "source": [
    "There are some exceed categories which are duplicated with other. Let's change them to the right one."
   ]
  },
  {
   "cell_type": "code",
   "execution_count": 481,
   "id": "ecdaa272",
   "metadata": {},
   "outputs": [],
   "source": [
    "mapping = {'Fri.':'Fri', 'Wednesday':'Wed', 'Monday':'Mon'}\n",
    "data['day_of_week'] = data.day_of_week.replace(mapping, regex = True)"
   ]
  },
  {
   "cell_type": "code",
   "execution_count": 482,
   "id": "a8ad2476",
   "metadata": {
    "scrolled": true
   },
   "outputs": [
    {
     "data": {
      "text/plain": [
       "Fri    303\n",
       "Thu    235\n",
       "Mon    225\n",
       "Sun    211\n",
       "Sat    200\n",
       "Tue    192\n",
       "Wed    114\n",
       "Name: day_of_week, dtype: int64"
      ]
     },
     "execution_count": 482,
     "metadata": {},
     "output_type": "execute_result"
    }
   ],
   "source": [
    "data.day_of_week.value_counts()"
   ]
  },
  {
   "attachments": {},
   "cell_type": "markdown",
   "id": "e3b3ea44",
   "metadata": {},
   "source": [
    "Great!\n",
    "Then, it will be great if 'day_of_week' feature is sortable. It makes me easier for data visualization."
   ]
  },
  {
   "cell_type": "code",
   "execution_count": 483,
   "id": "ec495a66",
   "metadata": {},
   "outputs": [],
   "source": [
    "days = ['Mon', 'Tue', 'Wed', 'Thu', 'Fri', 'Sat', 'Sun']\n",
    "data.day_of_week = pd.Categorical(data.day_of_week, categories = days)"
   ]
  },
  {
   "cell_type": "code",
   "execution_count": 484,
   "id": "c6636647",
   "metadata": {},
   "outputs": [
    {
     "data": {
      "text/plain": [
       "AM    1130\n",
       "PM     350\n",
       "Name: time, dtype: int64"
      ]
     },
     "execution_count": 484,
     "metadata": {},
     "output_type": "execute_result"
    }
   ],
   "source": [
    "data.time.value_counts()"
   ]
  },
  {
   "cell_type": "code",
   "execution_count": 485,
   "id": "759bbc34",
   "metadata": {},
   "outputs": [
    {
     "data": {
      "text/plain": [
       "HIIT        657\n",
       "Cycling     370\n",
       "Strength    231\n",
       "Yoga        135\n",
       "Aqua         74\n",
       "-            13\n",
       "Name: category, dtype: int64"
      ]
     },
     "execution_count": 485,
     "metadata": {},
     "output_type": "execute_result"
    }
   ],
   "source": [
    "data.category.value_counts()"
   ]
  },
  {
   "cell_type": "code",
   "execution_count": 486,
   "id": "99b179b4",
   "metadata": {},
   "outputs": [
    {
     "data": {
      "text/plain": [
       "0    1031\n",
       "1     449\n",
       "Name: attended, dtype: int64"
      ]
     },
     "execution_count": 486,
     "metadata": {},
     "output_type": "execute_result"
    }
   ],
   "source": [
    "data.attended.value_counts()"
   ]
  },
  {
   "cell_type": "code",
   "execution_count": 487,
   "id": "9a92c2ca",
   "metadata": {},
   "outputs": [
    {
     "data": {
      "text/html": [
       "<div>\n",
       "<style scoped>\n",
       "    .dataframe tbody tr th:only-of-type {\n",
       "        vertical-align: middle;\n",
       "    }\n",
       "\n",
       "    .dataframe tbody tr th {\n",
       "        vertical-align: top;\n",
       "    }\n",
       "\n",
       "    .dataframe thead th {\n",
       "        text-align: right;\n",
       "    }\n",
       "</style>\n",
       "<table border=\"1\" class=\"dataframe\">\n",
       "  <thead>\n",
       "    <tr style=\"text-align: right;\">\n",
       "      <th></th>\n",
       "      <th>months_as_member</th>\n",
       "      <th>weight</th>\n",
       "      <th>days_before</th>\n",
       "      <th>day_of_week</th>\n",
       "      <th>time</th>\n",
       "      <th>category</th>\n",
       "      <th>attended</th>\n",
       "    </tr>\n",
       "    <tr>\n",
       "      <th>booking_id</th>\n",
       "      <th></th>\n",
       "      <th></th>\n",
       "      <th></th>\n",
       "      <th></th>\n",
       "      <th></th>\n",
       "      <th></th>\n",
       "      <th></th>\n",
       "    </tr>\n",
       "  </thead>\n",
       "  <tbody>\n",
       "    <tr>\n",
       "      <th>1</th>\n",
       "      <td>17</td>\n",
       "      <td>79.56</td>\n",
       "      <td>8</td>\n",
       "      <td>Wed</td>\n",
       "      <td>PM</td>\n",
       "      <td>Strength</td>\n",
       "      <td>0</td>\n",
       "    </tr>\n",
       "    <tr>\n",
       "      <th>2</th>\n",
       "      <td>10</td>\n",
       "      <td>79.01</td>\n",
       "      <td>2</td>\n",
       "      <td>Mon</td>\n",
       "      <td>AM</td>\n",
       "      <td>HIIT</td>\n",
       "      <td>0</td>\n",
       "    </tr>\n",
       "    <tr>\n",
       "      <th>3</th>\n",
       "      <td>16</td>\n",
       "      <td>74.53</td>\n",
       "      <td>14</td>\n",
       "      <td>Sun</td>\n",
       "      <td>AM</td>\n",
       "      <td>Strength</td>\n",
       "      <td>0</td>\n",
       "    </tr>\n",
       "    <tr>\n",
       "      <th>4</th>\n",
       "      <td>5</td>\n",
       "      <td>86.12</td>\n",
       "      <td>10</td>\n",
       "      <td>Fri</td>\n",
       "      <td>AM</td>\n",
       "      <td>Cycling</td>\n",
       "      <td>0</td>\n",
       "    </tr>\n",
       "    <tr>\n",
       "      <th>5</th>\n",
       "      <td>15</td>\n",
       "      <td>69.29</td>\n",
       "      <td>8</td>\n",
       "      <td>Thu</td>\n",
       "      <td>AM</td>\n",
       "      <td>HIIT</td>\n",
       "      <td>0</td>\n",
       "    </tr>\n",
       "  </tbody>\n",
       "</table>\n",
       "</div>"
      ],
      "text/plain": [
       "            months_as_member  weight  days_before day_of_week time  category  \\\n",
       "booking_id                                                                     \n",
       "1                         17   79.56            8         Wed   PM  Strength   \n",
       "2                         10   79.01            2         Mon   AM      HIIT   \n",
       "3                         16   74.53           14         Sun   AM  Strength   \n",
       "4                          5   86.12           10         Fri   AM   Cycling   \n",
       "5                         15   69.29            8         Thu   AM      HIIT   \n",
       "\n",
       "            attended  \n",
       "booking_id            \n",
       "1                  0  \n",
       "2                  0  \n",
       "3                  0  \n",
       "4                  0  \n",
       "5                  0  "
      ]
     },
     "execution_count": 487,
     "metadata": {},
     "output_type": "execute_result"
    }
   ],
   "source": [
    "data.head()"
   ]
  },
  {
   "attachments": {},
   "cell_type": "markdown",
   "id": "55b6f3c5",
   "metadata": {},
   "source": [
    "### Exploratory Data Analysis"
   ]
  },
  {
   "cell_type": "code",
   "execution_count": 488,
   "id": "d8576b10",
   "metadata": {},
   "outputs": [
    {
     "data": {
      "image/png": "[encoded data removed]",
      "text/plain": [
       "<Figure size 432x288 with 1 Axes>"
      ]
     },
     "metadata": {
      "needs_background": "light"
     },
     "output_type": "display_data"
    }
   ],
   "source": [
    "markers = {1: \"o\", 0 : \"X\"}\n",
    "sns.scatterplot(data = data, x = 'months_as_member', y = 'weight', hue = 'attended', palette=['red', 'green'], markers = markers, style = 'attended')\n",
    "plt.title('Membership duration vs. Weight of members')\n",
    "plt.ylabel('Weight (kgs)')\n",
    "plt.show()"
   ]
  },
  {
   "attachments": {},
   "cell_type": "markdown",
   "id": "b723a2b7",
   "metadata": {},
   "source": [
    "**INSIGHT :** Membors who have been in memborship longer and has less weight tend to attend their booked class more often, **significantly**."
   ]
  },
  {
   "cell_type": "code",
   "execution_count": 489,
   "id": "19594a89",
   "metadata": {},
   "outputs": [
    {
     "data": {
      "image/png": "[encoded data removed]",
      "text/plain": [
       "<Figure size 593.25x540 with 12 Axes>"
      ]
     },
     "metadata": {
      "needs_background": "light"
     },
     "output_type": "display_data"
    }
   ],
   "source": [
    "sns.pairplot(data = data, diag_kind = 'hist',hue = 'attended', palette=['red', 'green'])\n",
    "plt.show()"
   ]
  },
  {
   "cell_type": "code",
   "execution_count": 490,
   "id": "7c381b66",
   "metadata": {},
   "outputs": [
    {
     "data": {
      "text/plain": [
       "<AxesSubplot:xlabel='time', ylabel='count'>"
      ]
     },
     "execution_count": 490,
     "metadata": {},
     "output_type": "execute_result"
    },
    {
     "data": {
      "image/png": "[encoded data removed]",
      "text/plain": [
       "<Figure size 432x288 with 1 Axes>"
      ]
     },
     "metadata": {
      "needs_background": "light"
     },
     "output_type": "display_data"
    }
   ],
   "source": [
    "sns.countplot(data = data, x = 'time', hue = 'attended', palette= ['red', 'green'])"
   ]
  },
  {
   "cell_type": "code",
   "execution_count": 491,
   "id": "3e4fdc50",
   "metadata": {},
   "outputs": [
    {
     "data": {
      "text/plain": [
       "time  attended\n",
       "AM    0           0.683186\n",
       "      1           0.316814\n",
       "PM    0           0.740000\n",
       "      1           0.260000\n",
       "Name: attended, dtype: float64"
      ]
     },
     "execution_count": 491,
     "metadata": {},
     "output_type": "execute_result"
    }
   ],
   "source": [
    "data.groupby('time')['attended'].value_counts(normalize=True)"
   ]
  },
  {
   "attachments": {},
   "cell_type": "markdown",
   "id": "3495c10d",
   "metadata": {},
   "source": [
    "### Preprocessing Data"
   ]
  },
  {
   "attachments": {},
   "cell_type": "markdown",
   "id": "4e2c3387",
   "metadata": {},
   "source": [
    "I decided not to use 'category' as a feature because it seems not correlated.\n",
    "\n",
    "First, 'day_of_week' and 'time' columns are categorial type. So, let's encode them."
   ]
  },
  {
   "cell_type": "code",
   "execution_count": 492,
   "id": "a6f6c517",
   "metadata": {},
   "outputs": [],
   "source": [
    "model_data = pd.concat([data.drop(['day_of_week', 'time'], axis = 1), pd.get_dummies(data[['day_of_week', 'time']], drop_first=True)], axis=1)"
   ]
  },
  {
   "cell_type": "code",
   "execution_count": 493,
   "id": "0a1088ce",
   "metadata": {},
   "outputs": [],
   "source": [
    "X = model_data.drop(['category', 'days_before', 'attended'], axis=1)\n",
    "y = model_data['attended']\n",
    "\n",
    "X_train, X_test, y_train, y_test = train_test_split(X, y, test_size=0.3, stratify=y, random_state=42)"
   ]
  },
  {
   "attachments": {},
   "cell_type": "markdown",
   "id": "77b62361",
   "metadata": {},
   "source": [
    "This task, I use distance-based model, then I have to do a standardization."
   ]
  },
  {
   "cell_type": "code",
   "execution_count": 514,
   "id": "af5a9d21",
   "metadata": {},
   "outputs": [],
   "source": [
    "from sklearn.preprocessing import StandardScaler\n",
    "\n",
    "scaler = StandardScaler()\n",
    "\n",
    "X_train_scaled = scaler.fit_transform(X_train[['weight', 'months_as_member']])\n",
    "X_test_scaled = scaler.transform(X_test[['weight', 'months_as_member']])\n"
   ]
  },
  {
   "attachments": {},
   "cell_type": "markdown",
   "id": "7921c366",
   "metadata": {},
   "source": [
    "**Note** : After I tried once, using only weight and months_as_member features return better accuracy. So, I will use only 2 features for the model."
   ]
  },
  {
   "attachments": {},
   "cell_type": "markdown",
   "id": "b948317f",
   "metadata": {},
   "source": [
    "### Baseline model"
   ]
  },
  {
   "cell_type": "code",
   "execution_count": null,
   "id": "ea33242a",
   "metadata": {},
   "outputs": [
    {
     "name": "stdout",
     "output_type": "stream",
     "text": [
      "The baseline model accuracy : 0.779\n"
     ]
    },
    {
     "data": {
      "image/png": "[encoded data removed]",
      "text/plain": [
       "<Figure size 432x288 with 1 Axes>"
      ]
     },
     "metadata": {
      "needs_background": "light"
     },
     "output_type": "display_data"
    }
   ],
   "source": [
    "from sklearn.linear_model import LogisticRegression\n",
    "from sklearn.metrics import accuracy_score, roc_curve, roc_auc_score, classification_report\n",
    "\n",
    "logreg = LogisticRegression()\n",
    "logreg.fit(X_train_scaled, y_train)\n",
    "y_pred_logreg = logreg.predict(X_test_scaled)\n",
    "\n",
    "print('The baseline model accuracy : {:.3f}'.format(accuracy_score(y_pred_logreg, y_test)))\n",
    "\n",
    "y_pred_probs_logreg = logreg.predict_log_proba(X_test_scaled)[:,1]\n",
    "fpr, tpr, thresholds = roc_curve(y_test.values, y_pred_probs_logreg)\n",
    "plt.plot([0, 1], [0, 1], 'k--')\n",
    "plt.plot(fpr, tpr)\n",
    "plt.xlabel('False Positive Rate')\n",
    "plt.ylabel('True Positive Rate')\n",
    "plt.title('Logistic Regression ROC Curve')\n",
    "plt.annotate('ROC AUC Score :{:.2f}'.format(roc_auc_score(y_test, y_pred_probs_logreg)),\n",
    "             (0.4,0.2))\n",
    "plt.show()"
   ]
  },
  {
   "cell_type": "code",
   "execution_count": null,
   "id": "e65a1cea",
   "metadata": {},
   "outputs": [
    {
     "name": "stdout",
     "output_type": "stream",
     "text": [
      "              precision    recall  f1-score   support\n",
      "\n",
      "           0       0.79      0.93      0.85       309\n",
      "           1       0.72      0.44      0.55       135\n",
      "\n",
      "    accuracy                           0.78       444\n",
      "   macro avg       0.76      0.69      0.70       444\n",
      "weighted avg       0.77      0.78      0.76       444\n",
      "\n"
     ]
    }
   ],
   "source": [
    "print(classification_report(y_test, y_pred_logreg))"
   ]
  },
  {
   "attachments": {},
   "cell_type": "markdown",
   "id": "7055bd8a",
   "metadata": {},
   "source": [
    "### Comparision model"
   ]
  },
  {
   "cell_type": "code",
   "execution_count": null,
   "id": "75cb9fe2",
   "metadata": {},
   "outputs": [
    {
     "name": "stdout",
     "output_type": "stream",
     "text": [
      "The comparision model accuracy : 0.768\n",
      "              precision    recall  f1-score   support\n",
      "\n",
      "           0       0.80      0.89      0.84       309\n",
      "           1       0.66      0.48      0.56       135\n",
      "\n",
      "    accuracy                           0.77       444\n",
      "   macro avg       0.73      0.69      0.70       444\n",
      "weighted avg       0.76      0.77      0.76       444\n",
      "\n"
     ]
    }
   ],
   "source": [
    "from sklearn.ensemble import RandomForestClassifier\n",
    "\n",
    "rf = RandomForestClassifier(max_depth = 5,\n",
    "                            random_state = 42)\n",
    "rf.fit(X_train, y_train)\n",
    "y_pred_rf = rf.predict(X_test)\n",
    "\n",
    "print('The comparision model accuracy : {:.3f}'.format(accuracy_score(y_pred_rf, y_test)))\n",
    "print(classification_report(y_test, y_pred_rf))"
   ]
  },
  {
   "attachments": {},
   "cell_type": "markdown",
   "id": "b3046036",
   "metadata": {},
   "source": [
    "### Addition"
   ]
  },
  {
   "cell_type": "code",
   "execution_count": null,
   "id": "dadc3917",
   "metadata": {},
   "outputs": [
    {
     "name": "stdout",
     "output_type": "stream",
     "text": [
      "Fitting 3 folds for each of 10 candidates, totalling 30 fits\n"
     ]
    },
    {
     "data": {
      "text/plain": [
       "RandomizedSearchCV(cv=3,\n",
       "                   estimator=RandomForestClassifier(max_depth=5,\n",
       "                                                    random_state=42),\n",
       "                   n_jobs=-1,\n",
       "                   param_distributions={'max_depth': [4, 5, 6, 7, 8],\n",
       "                                        'min_samples_leaf': [0.1, 0.2],\n",
       "                                        'n_estimators': [100, 300, 500]},\n",
       "                   scoring='accuracy', verbose=1)"
      ]
     },
     "execution_count": 424,
     "metadata": {},
     "output_type": "execute_result"
    }
   ],
   "source": [
    "from sklearn.model_selection import RandomizedSearchCV\n",
    "\n",
    "params_rf = {\n",
    "    'n_estimators' : [100, 300, 500],\n",
    "    'max_depth' : [4, 5, 6, 7, 8],\n",
    "    'min_samples_leaf' : [0.1, 0.2]\n",
    "}\n",
    "\n",
    "random_rf = RandomizedSearchCV(\n",
    "    estimator = rf,\n",
    "    param_distributions = params_rf,\n",
    "    cv = 3,\n",
    "    scoring = 'accuracy',\n",
    "    verbose = 1,\n",
    "    n_jobs = -1\n",
    ")\n",
    "\n",
    "random_rf.fit(X_train_scaled, y_train)"
   ]
  },
  {
   "cell_type": "code",
   "execution_count": null,
   "id": "e1d0932e",
   "metadata": {},
   "outputs": [
    {
     "name": "stdout",
     "output_type": "stream",
     "text": [
      "RF Train Accuracy : 0.78\n",
      "The comparision model accuracy : 0.757\n",
      "              precision    recall  f1-score   support\n",
      "\n",
      "           0       0.78      0.90      0.84       309\n",
      "           1       0.65      0.44      0.52       135\n",
      "\n",
      "    accuracy                           0.76       444\n",
      "   macro avg       0.72      0.67      0.68       444\n",
      "weighted avg       0.74      0.76      0.74       444\n",
      "\n"
     ]
    }
   ],
   "source": [
    "print('RF Train Accuracy : {:.2f}'.format(random_rf.best_score_))\n",
    "\n",
    "y_pred_rf_tuned = random_rf.best_estimator_.predict(X_test_scaled)\n",
    "\n",
    "print('The comparision model accuracy : {:.3f}'.format(accuracy_score(y_test, y_pred_rf_tuned)))\n",
    "print(classification_report(y_test, y_pred_rf_tuned))\n"
   ]
  }
 ],
 "metadata": {
  "kernelspec": {
   "display_name": "Python 3 (ipykernel)",
   "language": "python",
   "name": "python3"
  },
  "language_info": {
   "codemirror_mode": {
    "name": "ipython",
    "version": 3
   },
   "file_extension": ".py",
   "mimetype": "text/x-python",
   "name": "python",
   "nbconvert_exporter": "python",
   "pygments_lexer": "ipython3",
   "version": "3.9.7"
  }
 },
 "nbformat": 4,
 "nbformat_minor": 5
}
