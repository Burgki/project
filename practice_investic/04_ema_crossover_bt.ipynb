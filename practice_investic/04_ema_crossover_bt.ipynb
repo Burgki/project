{
 "cells": [
  {
   "attachments": {},
   "cell_type": "markdown",
   "metadata": {},
   "source": [
    "**EMA Crossover Strategy**\n",
    "\n",
    "Note : Noise is high"
   ]
  },
  {
   "cell_type": "code",
   "execution_count": 105,
   "metadata": {},
   "outputs": [],
   "source": [
    "import MetaTrader5 as mt5\n",
    "import pandas as pd\n",
    "from datetime import datetime\n",
    "import time\n",
    "import requests\n",
    "import pandas_ta as pta\n",
    "import numpy as np"
   ]
  },
  {
   "cell_type": "code",
   "execution_count": 106,
   "metadata": {},
   "outputs": [],
   "source": [
    "def pull_data(symbol, timeframe, _start, _end):\n",
    "    \n",
    "    mt5.initialize()\n",
    "\n",
    "    login = 121391564\n",
    "    password = 'xxxxxxxx'\n",
    "    server = 'Exness-MT5Trial7'\n",
    "    mt5.login(login, password, server)\n",
    "\n",
    "    raw_df = mt5.copy_rates_range(symbol, timeframe, _start, _end)\n",
    "    df = pd.DataFrame(raw_df)\n",
    "\n",
    "    mt5.shutdown()\n",
    "\n",
    "    df.loc[:,'time'] = pd.to_datetime(df.loc[:,'time'], unit = 's', utc=True)\n",
    "\n",
    "    return df"
   ]
  },
  {
   "cell_type": "code",
   "execution_count": 107,
   "metadata": {},
   "outputs": [],
   "source": [
    "def convert_ema_signal(df, period) :\n",
    "    if 'close' in df.columns:\n",
    "        df['ema'] = pta.ema(df.loc[:, 'close'], period)\n",
    "        df['hist'] = df.loc[:, 'close'] - df.loc[:, 'ema']\n",
    "        df['next_open'] = df.loc[:, 'open'].shift(-1)\n",
    "\n",
    "        df['signal'] = 'normal'\n",
    "        mask_buy = (df['hist'] > 0) & (df['hist'].shift(1) < 0)\n",
    "        mask_sell = (df['hist'] < 0) & (df['hist'].shift(1) > 0)\n",
    "\n",
    "        df.loc[mask_buy, 'signal'] = 'buy'\n",
    "        df.loc[mask_sell, 'signal'] = 'sell'\n",
    "\n",
    "        trade_history = df.loc[df['signal'] != 'normal', :].copy()\n",
    "        trade_history['profit'] = trade_history['next_open'].diff(1).copy()\n",
    "        trade_history.loc[trade_history['signal'] == 'buy', 'profit'] = trade_history.loc[trade_history['signal'] == 'buy', 'profit'] * (-1)\n",
    "\n",
    "        trade_history['profit'].sum()\n",
    "\n",
    "        return df, trade_history\n",
    "    else :\n",
    "        return print(\"Error, Not found Close\")"
   ]
  },
  {
   "cell_type": "code",
   "execution_count": 202,
   "metadata": {},
   "outputs": [],
   "source": [
    "START_DATE = datetime(2021, 1, 1) #2021-03-19\n",
    "END_DATE = datetime(2022, 12, 31)\n",
    "df = pull_data(\"XAUUSD\", mt5.TIMEFRAME_H4, START_DATE, END_DATE)"
   ]
  },
  {
   "cell_type": "code",
   "execution_count": 205,
   "metadata": {},
   "outputs": [
    {
     "data": {
      "text/html": [
       "<div>\n",
       "<style scoped>\n",
       "    .dataframe tbody tr th:only-of-type {\n",
       "        vertical-align: middle;\n",
       "    }\n",
       "\n",
       "    .dataframe tbody tr th {\n",
       "        vertical-align: top;\n",
       "    }\n",
       "\n",
       "    .dataframe thead th {\n",
       "        text-align: right;\n",
       "    }\n",
       "</style>\n",
       "<table border=\"1\" class=\"dataframe\">\n",
       "  <thead>\n",
       "    <tr style=\"text-align: right;\">\n",
       "      <th></th>\n",
       "      <th>1</th>\n",
       "    </tr>\n",
       "    <tr>\n",
       "      <th>0</th>\n",
       "      <th></th>\n",
       "    </tr>\n",
       "  </thead>\n",
       "  <tbody>\n",
       "    <tr>\n",
       "      <th>168</th>\n",
       "      <td>173.336</td>\n",
       "    </tr>\n",
       "    <tr>\n",
       "      <th>166</th>\n",
       "      <td>172.528</td>\n",
       "    </tr>\n",
       "    <tr>\n",
       "      <th>164</th>\n",
       "      <td>164.254</td>\n",
       "    </tr>\n",
       "    <tr>\n",
       "      <th>170</th>\n",
       "      <td>160.789</td>\n",
       "    </tr>\n",
       "    <tr>\n",
       "      <th>100</th>\n",
       "      <td>155.158</td>\n",
       "    </tr>\n",
       "  </tbody>\n",
       "</table>\n",
       "</div>"
      ],
      "text/plain": [
       "           1\n",
       "0           \n",
       "168  173.336\n",
       "166  172.528\n",
       "164  164.254\n",
       "170  160.789\n",
       "100  155.158"
      ]
     },
     "execution_count": 205,
     "metadata": {},
     "output_type": "execute_result"
    }
   ],
   "source": [
    "opm = {}\n",
    "for ema in np.arange(100, 305, 2):\n",
    "    opm_df, trade_history_df = convert_ema_signal(df, ema)\n",
    "    opm[ema] = trade_history_df.profit.sum()\n",
    "\n",
    "pd.DataFrame(opm.items()).set_index(0).sort_values(1, ascending= False).head()"
   ]
  },
  {
   "cell_type": "code",
   "execution_count": 208,
   "metadata": {},
   "outputs": [
    {
     "name": "stdout",
     "output_type": "stream",
     "text": [
      "-19.190000000000055\n",
      "126.981\n"
     ]
    }
   ],
   "source": [
    "df_168, trade_history_168 = convert_ema_signal(df, 168)\n",
    "print(trade_history_168['profit'].min())\n",
    "print(trade_history_168['profit'].max())"
   ]
  },
  {
   "cell_type": "code",
   "execution_count": 211,
   "metadata": {},
   "outputs": [
    {
     "name": "stdout",
     "output_type": "stream",
     "text": [
      "-38.343999999999824\n",
      "129.24900000000002\n"
     ]
    }
   ],
   "source": [
    "df_100, trade_history_100 = convert_ema_signal(df, 100)\n",
    "print(trade_history_100['profit'].min())\n",
    "print(trade_history_100['profit'].max())"
   ]
  },
  {
   "cell_type": "code",
   "execution_count": 210,
   "metadata": {},
   "outputs": [
    {
     "data": {
      "text/plain": [
       "<AxesSubplot:>"
      ]
     },
     "execution_count": 210,
     "metadata": {},
     "output_type": "execute_result"
    },
    {
     "data": {
      "image/png": "[encoded data removed]",
      "text/plain": [
       "<Figure size 864x432 with 1 Axes>"
      ]
     },
     "metadata": {
      "needs_background": "light"
     },
     "output_type": "display_data"
    }
   ],
   "source": [
    "trade_history_100['profit'].plot(kind = 'bar', figsize=(12,6))"
   ]
  }
 ],
 "metadata": {
  "kernelspec": {
   "display_name": "base",
   "language": "python",
   "name": "python3"
  },
  "language_info": {
   "codemirror_mode": {
    "name": "ipython",
    "version": 3
   },
   "file_extension": ".py",
   "mimetype": "text/x-python",
   "name": "python",
   "nbconvert_exporter": "python",
   "pygments_lexer": "ipython3",
   "version": "3.9.7"
  },
  "orig_nbformat": 4
 },
 "nbformat": 4,
 "nbformat_minor": 2
}
